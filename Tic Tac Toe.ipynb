{
 "cells": [
  {
   "cell_type": "code",
   "execution_count": 1,
   "id": "c5f15772",
   "metadata": {},
   "outputs": [
    {
     "name": "stdout",
     "output_type": "stream",
     "text": [
      "  |   |  \n",
      "  |   |  \n",
      "  |   |  \n",
      "----------\n",
      "  |   |  \n",
      "  | X |  \n",
      "  |   |  \n",
      "----------\n"
     ]
    },
    {
     "name": "stdin",
     "output_type": "stream",
     "text": [
      "enter the position to insert: 3\n"
     ]
    },
    {
     "name": "stdout",
     "output_type": "stream",
     "text": [
      "  |   | O\n",
      "  | X |  \n",
      "  |   |  \n",
      "----------\n",
      "  |   | O\n",
      "  | X |  \n",
      "  |   |  \n",
      "----------\n",
      "  |   | O\n",
      "  | X |  \n",
      "X |   |  \n",
      "----------\n"
     ]
    },
    {
     "name": "stdin",
     "output_type": "stream",
     "text": [
      "enter the position to insert: 1\n"
     ]
    },
    {
     "name": "stdout",
     "output_type": "stream",
     "text": [
      "O |   | O\n",
      "  | X |  \n",
      "X |   |  \n",
      "----------\n",
      "O |   | O\n",
      "  | X |  \n",
      "X |   |  \n",
      "----------\n",
      "O |   | O\n",
      "  | X |  \n",
      "X | X |  \n",
      "----------\n"
     ]
    },
    {
     "name": "stdin",
     "output_type": "stream",
     "text": [
      "enter the position to insert: 2\n"
     ]
    },
    {
     "name": "stdout",
     "output_type": "stream",
     "text": [
      "O | O | O\n",
      "  | X |  \n",
      "X | X |  \n",
      "----------\n",
      "human wins\n"
     ]
    }
   ],
   "source": [
    "\n",
    "import random\n",
    "board =[' ']*10\n",
    "computer = 'X'\n",
    "human ='O'\n",
    "\n",
    "def display_board(board):\n",
    "    print(f'{board[1]} | {board[2]} | {board[3]}')\n",
    "    print(f'{board[4]} | {board[5]} | {board[6]}')\n",
    "    print(f'{board[7]} | {board[8]} | {board[9]}')\n",
    "    print('-'*10)\n",
    "    \n",
    "def check_win():\n",
    "    if board[1]==board[2]==board[3] and board[1]!=' ':\n",
    "        return True\n",
    "    elif board[4]==board[5]==board[6] and board[4]!=' ':\n",
    "        return True\n",
    "    elif board[7]==board[8]==board[9] and board[7]!=' ':\n",
    "        return True\n",
    "    elif board[1]==board[4]==board[7] and board[1]!=' ':\n",
    "        return True\n",
    "    elif board[2]==board[5]==board[8] and board[2]!=' ':\n",
    "        return True\n",
    "    elif board[3]==board[6]==board[9] and board[3]!=' ':\n",
    "        return True\n",
    "    elif board[1]==board[5]==board[9] and board[1]!=' ':\n",
    "        return True\n",
    "    elif board[7]==board[5]==board[3] and board[7]!=' ':\n",
    "        return True\n",
    "    else:\n",
    "        return False\n",
    "    \n",
    "def check_draw():\n",
    "    if board.count(' ') <2:\n",
    "        return True\n",
    "    else:\n",
    "        return False\n",
    "\n",
    "\n",
    "def is_available(pos):\n",
    "    return True if board[pos] ==' 'else False\n",
    "    \n",
    "    \n",
    "def insert(letter,pos):\n",
    "    if is_available(pos):\n",
    "        board[pos] =letter3\n",
    "        3\n",
    "        display_board(board)\n",
    "        if check_win():\n",
    "            if letter =='X':\n",
    "                print('computer wins')\n",
    "                exit()\n",
    "            else:\n",
    "                print('human wins')\n",
    "                exit()\n",
    "        if check_draw():\n",
    "                print('draw')\n",
    "                exit()\n",
    "    else:\n",
    "        if letter =='O':\n",
    "            poss = int(input('Not Free! please re-enter a position'))\n",
    "        else:\n",
    "            pos =random.randint(1,9)\n",
    "        insert(letter,pos)\n",
    "    \n",
    "    \n",
    "def human_move(letter):\n",
    "    pos =int(input('enter the position to insert:'))\n",
    "    insert(letter,pos)\n",
    "\n",
    "def computer_move(letter):\n",
    "    pos =random.randint(1,9)\n",
    "    insert(letter,pos)\n",
    "    \n",
    "while not check_win():\n",
    "    display_board(board)\n",
    "    computer_move(computer)\n",
    "    human_move(human)"
   ]
  },
  {
   "cell_type": "markdown",
   "id": "72a0565b-5fc4-4ec9-875b-5f4f60405e70",
   "metadata": {},
   "source": [
    "# <span style = \"color:green;font-size:40px\">shahanasherinpt6@gmail.com</span>"
   ]
  }
 ],
 "metadata": {
  "kernelspec": {
   "display_name": "Python 3 (ipykernel)",
   "language": "python",
   "name": "python3"
  },
  "language_info": {
   "codemirror_mode": {
    "name": "ipython",
    "version": 3
   },
   "file_extension": ".py",
   "mimetype": "text/x-python",
   "name": "python",
   "nbconvert_exporter": "python",
   "pygments_lexer": "ipython3",
   "version": "3.11.7"
  }
 },
 "nbformat": 4,
 "nbformat_minor": 5
}
